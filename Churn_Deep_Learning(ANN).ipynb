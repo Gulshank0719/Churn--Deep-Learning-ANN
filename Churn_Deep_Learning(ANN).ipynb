{
  "nbformat": 4,
  "nbformat_minor": 0,
  "metadata": {
    "colab": {
      "provenance": [],
      "authorship_tag": "ABX9TyMu/zQIfD8xTM3jXYMw5rre"
    },
    "kernelspec": {
      "name": "python3",
      "display_name": "Python 3"
    },
    "language_info": {
      "name": "python"
    }
  },
  "cells": [
    {
      "cell_type": "code",
      "execution_count": 1,
      "metadata": {
        "colab": {
          "base_uri": "https://localhost:8080/"
        },
        "id": "vHOHQ12gzubr",
        "outputId": "87762e9c-212a-424a-baeb-4abfb46580c7"
      },
      "outputs": [
        {
          "output_type": "stream",
          "name": "stdout",
          "text": [
            "Looking in indexes: https://pypi.org/simple, https://us-python.pkg.dev/colab-wheels/public/simple/\n",
            "Collecting tensorflow.gpu\n",
            "  Downloading tensorflow_gpu-2.11.0-cp38-cp38-manylinux_2_17_x86_64.manylinux2014_x86_64.whl (588.3 MB)\n",
            "\u001b[K     |████████████████████████████████| 588.3 MB 20 kB/s \n",
            "\u001b[?25hCollecting keras<2.12,>=2.11.0\n",
            "  Downloading keras-2.11.0-py2.py3-none-any.whl (1.7 MB)\n",
            "\u001b[K     |████████████████████████████████| 1.7 MB 13.6 MB/s \n",
            "\u001b[?25hRequirement already satisfied: grpcio<2.0,>=1.24.3 in /usr/local/lib/python3.8/dist-packages (from tensorflow.gpu) (1.51.1)\n",
            "Requirement already satisfied: packaging in /usr/local/lib/python3.8/dist-packages (from tensorflow.gpu) (21.3)\n",
            "Requirement already satisfied: termcolor>=1.1.0 in /usr/local/lib/python3.8/dist-packages (from tensorflow.gpu) (2.1.1)\n",
            "Requirement already satisfied: google-pasta>=0.1.1 in /usr/local/lib/python3.8/dist-packages (from tensorflow.gpu) (0.2.0)\n",
            "Requirement already satisfied: absl-py>=1.0.0 in /usr/local/lib/python3.8/dist-packages (from tensorflow.gpu) (1.3.0)\n",
            "Requirement already satisfied: six>=1.12.0 in /usr/local/lib/python3.8/dist-packages (from tensorflow.gpu) (1.15.0)\n",
            "Requirement already satisfied: astunparse>=1.6.0 in /usr/local/lib/python3.8/dist-packages (from tensorflow.gpu) (1.6.3)\n",
            "Requirement already satisfied: protobuf<3.20,>=3.9.2 in /usr/local/lib/python3.8/dist-packages (from tensorflow.gpu) (3.19.6)\n",
            "Collecting flatbuffers>=2.0\n",
            "  Downloading flatbuffers-22.12.6-py2.py3-none-any.whl (26 kB)\n",
            "Requirement already satisfied: opt-einsum>=2.3.2 in /usr/local/lib/python3.8/dist-packages (from tensorflow.gpu) (3.3.0)\n",
            "Requirement already satisfied: h5py>=2.9.0 in /usr/local/lib/python3.8/dist-packages (from tensorflow.gpu) (3.1.0)\n",
            "Requirement already satisfied: setuptools in /usr/local/lib/python3.8/dist-packages (from tensorflow.gpu) (57.4.0)\n",
            "Requirement already satisfied: typing-extensions>=3.6.6 in /usr/local/lib/python3.8/dist-packages (from tensorflow.gpu) (4.4.0)\n",
            "Collecting tensorflow-estimator<2.12,>=2.11.0\n",
            "  Downloading tensorflow_estimator-2.11.0-py2.py3-none-any.whl (439 kB)\n",
            "\u001b[K     |████████████████████████████████| 439 kB 21.8 MB/s \n",
            "\u001b[?25hRequirement already satisfied: libclang>=13.0.0 in /usr/local/lib/python3.8/dist-packages (from tensorflow.gpu) (14.0.6)\n",
            "Requirement already satisfied: wrapt>=1.11.0 in /usr/local/lib/python3.8/dist-packages (from tensorflow.gpu) (1.14.1)\n",
            "Requirement already satisfied: numpy>=1.20 in /usr/local/lib/python3.8/dist-packages (from tensorflow.gpu) (1.21.6)\n",
            "Requirement already satisfied: tensorflow-io-gcs-filesystem>=0.23.1 in /usr/local/lib/python3.8/dist-packages (from tensorflow.gpu) (0.28.0)\n",
            "Requirement already satisfied: gast<=0.4.0,>=0.2.1 in /usr/local/lib/python3.8/dist-packages (from tensorflow.gpu) (0.4.0)\n",
            "Collecting tensorboard<2.12,>=2.11\n",
            "  Downloading tensorboard-2.11.0-py3-none-any.whl (6.0 MB)\n",
            "\u001b[K     |████████████████████████████████| 6.0 MB 35.8 MB/s \n",
            "\u001b[?25hRequirement already satisfied: wheel<1.0,>=0.23.0 in /usr/local/lib/python3.8/dist-packages (from astunparse>=1.6.0->tensorflow.gpu) (0.38.4)\n",
            "Requirement already satisfied: markdown>=2.6.8 in /usr/local/lib/python3.8/dist-packages (from tensorboard<2.12,>=2.11->tensorflow.gpu) (3.4.1)\n",
            "Requirement already satisfied: werkzeug>=1.0.1 in /usr/local/lib/python3.8/dist-packages (from tensorboard<2.12,>=2.11->tensorflow.gpu) (1.0.1)\n",
            "Requirement already satisfied: google-auth<3,>=1.6.3 in /usr/local/lib/python3.8/dist-packages (from tensorboard<2.12,>=2.11->tensorflow.gpu) (2.15.0)\n",
            "Requirement already satisfied: tensorboard-plugin-wit>=1.6.0 in /usr/local/lib/python3.8/dist-packages (from tensorboard<2.12,>=2.11->tensorflow.gpu) (1.8.1)\n",
            "Requirement already satisfied: requests<3,>=2.21.0 in /usr/local/lib/python3.8/dist-packages (from tensorboard<2.12,>=2.11->tensorflow.gpu) (2.23.0)\n",
            "Requirement already satisfied: tensorboard-data-server<0.7.0,>=0.6.0 in /usr/local/lib/python3.8/dist-packages (from tensorboard<2.12,>=2.11->tensorflow.gpu) (0.6.1)\n",
            "Requirement already satisfied: google-auth-oauthlib<0.5,>=0.4.1 in /usr/local/lib/python3.8/dist-packages (from tensorboard<2.12,>=2.11->tensorflow.gpu) (0.4.6)\n",
            "Requirement already satisfied: cachetools<6.0,>=2.0.0 in /usr/local/lib/python3.8/dist-packages (from google-auth<3,>=1.6.3->tensorboard<2.12,>=2.11->tensorflow.gpu) (5.2.0)\n",
            "Requirement already satisfied: rsa<5,>=3.1.4 in /usr/local/lib/python3.8/dist-packages (from google-auth<3,>=1.6.3->tensorboard<2.12,>=2.11->tensorflow.gpu) (4.9)\n",
            "Requirement already satisfied: pyasn1-modules>=0.2.1 in /usr/local/lib/python3.8/dist-packages (from google-auth<3,>=1.6.3->tensorboard<2.12,>=2.11->tensorflow.gpu) (0.2.8)\n",
            "Requirement already satisfied: requests-oauthlib>=0.7.0 in /usr/local/lib/python3.8/dist-packages (from google-auth-oauthlib<0.5,>=0.4.1->tensorboard<2.12,>=2.11->tensorflow.gpu) (1.3.1)\n",
            "Requirement already satisfied: importlib-metadata>=4.4 in /usr/local/lib/python3.8/dist-packages (from markdown>=2.6.8->tensorboard<2.12,>=2.11->tensorflow.gpu) (5.1.0)\n",
            "Requirement already satisfied: zipp>=0.5 in /usr/local/lib/python3.8/dist-packages (from importlib-metadata>=4.4->markdown>=2.6.8->tensorboard<2.12,>=2.11->tensorflow.gpu) (3.11.0)\n",
            "Requirement already satisfied: pyasn1<0.5.0,>=0.4.6 in /usr/local/lib/python3.8/dist-packages (from pyasn1-modules>=0.2.1->google-auth<3,>=1.6.3->tensorboard<2.12,>=2.11->tensorflow.gpu) (0.4.8)\n",
            "Requirement already satisfied: certifi>=2017.4.17 in /usr/local/lib/python3.8/dist-packages (from requests<3,>=2.21.0->tensorboard<2.12,>=2.11->tensorflow.gpu) (2022.12.7)\n",
            "Requirement already satisfied: idna<3,>=2.5 in /usr/local/lib/python3.8/dist-packages (from requests<3,>=2.21.0->tensorboard<2.12,>=2.11->tensorflow.gpu) (2.10)\n",
            "Requirement already satisfied: urllib3!=1.25.0,!=1.25.1,<1.26,>=1.21.1 in /usr/local/lib/python3.8/dist-packages (from requests<3,>=2.21.0->tensorboard<2.12,>=2.11->tensorflow.gpu) (1.24.3)\n",
            "Requirement already satisfied: chardet<4,>=3.0.2 in /usr/local/lib/python3.8/dist-packages (from requests<3,>=2.21.0->tensorboard<2.12,>=2.11->tensorflow.gpu) (3.0.4)\n",
            "Requirement already satisfied: oauthlib>=3.0.0 in /usr/local/lib/python3.8/dist-packages (from requests-oauthlib>=0.7.0->google-auth-oauthlib<0.5,>=0.4.1->tensorboard<2.12,>=2.11->tensorflow.gpu) (3.2.2)\n",
            "Requirement already satisfied: pyparsing!=3.0.5,>=2.0.2 in /usr/local/lib/python3.8/dist-packages (from packaging->tensorflow.gpu) (3.0.9)\n",
            "Installing collected packages: tensorflow-estimator, tensorboard, keras, flatbuffers, tensorflow.gpu\n",
            "  Attempting uninstall: tensorflow-estimator\n",
            "    Found existing installation: tensorflow-estimator 2.9.0\n",
            "    Uninstalling tensorflow-estimator-2.9.0:\n",
            "      Successfully uninstalled tensorflow-estimator-2.9.0\n",
            "  Attempting uninstall: tensorboard\n",
            "    Found existing installation: tensorboard 2.9.1\n",
            "    Uninstalling tensorboard-2.9.1:\n",
            "      Successfully uninstalled tensorboard-2.9.1\n",
            "  Attempting uninstall: keras\n",
            "    Found existing installation: keras 2.9.0\n",
            "    Uninstalling keras-2.9.0:\n",
            "      Successfully uninstalled keras-2.9.0\n",
            "  Attempting uninstall: flatbuffers\n",
            "    Found existing installation: flatbuffers 1.12\n",
            "    Uninstalling flatbuffers-1.12:\n",
            "      Successfully uninstalled flatbuffers-1.12\n",
            "\u001b[31mERROR: pip's dependency resolver does not currently take into account all the packages that are installed. This behaviour is the source of the following dependency conflicts.\n",
            "tensorflow 2.9.2 requires flatbuffers<2,>=1.12, but you have flatbuffers 22.12.6 which is incompatible.\n",
            "tensorflow 2.9.2 requires keras<2.10.0,>=2.9.0rc0, but you have keras 2.11.0 which is incompatible.\n",
            "tensorflow 2.9.2 requires tensorboard<2.10,>=2.9, but you have tensorboard 2.11.0 which is incompatible.\n",
            "tensorflow 2.9.2 requires tensorflow-estimator<2.10.0,>=2.9.0rc0, but you have tensorflow-estimator 2.11.0 which is incompatible.\u001b[0m\n",
            "Successfully installed flatbuffers-22.12.6 keras-2.11.0 tensorboard-2.11.0 tensorflow-estimator-2.11.0 tensorflow.gpu-2.11.0\n"
          ]
        }
      ],
      "source": [
        "!pip install tensorflow.gpu"
      ]
    },
    {
      "cell_type": "markdown",
      "source": [
        "## **1. Importing Libraries**"
      ],
      "metadata": {
        "id": "ouaW8JKv0TOa"
      }
    },
    {
      "cell_type": "code",
      "source": [
        "import tensorflow as tf\n",
        "print(tf.__version__)"
      ],
      "metadata": {
        "colab": {
          "base_uri": "https://localhost:8080/"
        },
        "id": "EdYYKWvj0Ht3",
        "outputId": "3747585b-d11f-433c-8ba8-df3b08d1ff4f"
      },
      "execution_count": 2,
      "outputs": [
        {
          "output_type": "stream",
          "name": "stdout",
          "text": [
            "2.11.0\n"
          ]
        }
      ]
    },
    {
      "cell_type": "code",
      "source": [
        "import pandas as pd\n",
        "import numpy as np\n",
        "import matplotlib.pyplot as plt\n",
        "import seaborn as sns\n",
        "from sklearn.model_selection import train_test_split\n",
        "from sklearn.preprocessing import StandardScaler\n",
        "from tensorflow.keras.models import Sequential\n",
        "from tensorflow.keras.layers import Dense\n",
        "from tensorflow.keras.layers import Dropout\n",
        "\n",
        "from sklearn.metrics import confusion_matrix, accuracy_score"
      ],
      "metadata": {
        "id": "yS01JMWI0ikH"
      },
      "execution_count": 74,
      "outputs": []
    },
    {
      "cell_type": "markdown",
      "source": [
        "## 2.Importing Data"
      ],
      "metadata": {
        "id": "4qQHAvAKAo9X"
      }
    },
    {
      "cell_type": "code",
      "source": [
        "data = pd.read_csv('/content/Churn_Modelling.csv')\n",
        "data.head()"
      ],
      "metadata": {
        "colab": {
          "base_uri": "https://localhost:8080/",
          "height": 270
        },
        "id": "7uJ8DK7I0x6l",
        "outputId": "51cc5026-8825-45ae-d202-20f194a578d2"
      },
      "execution_count": 5,
      "outputs": [
        {
          "output_type": "execute_result",
          "data": {
            "text/plain": [
              "   RowNumber  CustomerId   Surname  CreditScore Geography  Gender  Age  \\\n",
              "0          1    15634602  Hargrave          619    France  Female   42   \n",
              "1          2    15647311      Hill          608     Spain  Female   41   \n",
              "2          3    15619304      Onio          502    France  Female   42   \n",
              "3          4    15701354      Boni          699    France  Female   39   \n",
              "4          5    15737888  Mitchell          850     Spain  Female   43   \n",
              "\n",
              "   Tenure    Balance  NumOfProducts  HasCrCard  IsActiveMember  \\\n",
              "0       2       0.00              1          1               1   \n",
              "1       1   83807.86              1          0               1   \n",
              "2       8  159660.80              3          1               0   \n",
              "3       1       0.00              2          0               0   \n",
              "4       2  125510.82              1          1               1   \n",
              "\n",
              "   EstimatedSalary  Exited  \n",
              "0        101348.88       1  \n",
              "1        112542.58       0  \n",
              "2        113931.57       1  \n",
              "3         93826.63       0  \n",
              "4         79084.10       0  "
            ],
            "text/html": [
              "\n",
              "  <div id=\"df-2f960fbc-24c9-4267-8c9b-e25264f25a5f\">\n",
              "    <div class=\"colab-df-container\">\n",
              "      <div>\n",
              "<style scoped>\n",
              "    .dataframe tbody tr th:only-of-type {\n",
              "        vertical-align: middle;\n",
              "    }\n",
              "\n",
              "    .dataframe tbody tr th {\n",
              "        vertical-align: top;\n",
              "    }\n",
              "\n",
              "    .dataframe thead th {\n",
              "        text-align: right;\n",
              "    }\n",
              "</style>\n",
              "<table border=\"1\" class=\"dataframe\">\n",
              "  <thead>\n",
              "    <tr style=\"text-align: right;\">\n",
              "      <th></th>\n",
              "      <th>RowNumber</th>\n",
              "      <th>CustomerId</th>\n",
              "      <th>Surname</th>\n",
              "      <th>CreditScore</th>\n",
              "      <th>Geography</th>\n",
              "      <th>Gender</th>\n",
              "      <th>Age</th>\n",
              "      <th>Tenure</th>\n",
              "      <th>Balance</th>\n",
              "      <th>NumOfProducts</th>\n",
              "      <th>HasCrCard</th>\n",
              "      <th>IsActiveMember</th>\n",
              "      <th>EstimatedSalary</th>\n",
              "      <th>Exited</th>\n",
              "    </tr>\n",
              "  </thead>\n",
              "  <tbody>\n",
              "    <tr>\n",
              "      <th>0</th>\n",
              "      <td>1</td>\n",
              "      <td>15634602</td>\n",
              "      <td>Hargrave</td>\n",
              "      <td>619</td>\n",
              "      <td>France</td>\n",
              "      <td>Female</td>\n",
              "      <td>42</td>\n",
              "      <td>2</td>\n",
              "      <td>0.00</td>\n",
              "      <td>1</td>\n",
              "      <td>1</td>\n",
              "      <td>1</td>\n",
              "      <td>101348.88</td>\n",
              "      <td>1</td>\n",
              "    </tr>\n",
              "    <tr>\n",
              "      <th>1</th>\n",
              "      <td>2</td>\n",
              "      <td>15647311</td>\n",
              "      <td>Hill</td>\n",
              "      <td>608</td>\n",
              "      <td>Spain</td>\n",
              "      <td>Female</td>\n",
              "      <td>41</td>\n",
              "      <td>1</td>\n",
              "      <td>83807.86</td>\n",
              "      <td>1</td>\n",
              "      <td>0</td>\n",
              "      <td>1</td>\n",
              "      <td>112542.58</td>\n",
              "      <td>0</td>\n",
              "    </tr>\n",
              "    <tr>\n",
              "      <th>2</th>\n",
              "      <td>3</td>\n",
              "      <td>15619304</td>\n",
              "      <td>Onio</td>\n",
              "      <td>502</td>\n",
              "      <td>France</td>\n",
              "      <td>Female</td>\n",
              "      <td>42</td>\n",
              "      <td>8</td>\n",
              "      <td>159660.80</td>\n",
              "      <td>3</td>\n",
              "      <td>1</td>\n",
              "      <td>0</td>\n",
              "      <td>113931.57</td>\n",
              "      <td>1</td>\n",
              "    </tr>\n",
              "    <tr>\n",
              "      <th>3</th>\n",
              "      <td>4</td>\n",
              "      <td>15701354</td>\n",
              "      <td>Boni</td>\n",
              "      <td>699</td>\n",
              "      <td>France</td>\n",
              "      <td>Female</td>\n",
              "      <td>39</td>\n",
              "      <td>1</td>\n",
              "      <td>0.00</td>\n",
              "      <td>2</td>\n",
              "      <td>0</td>\n",
              "      <td>0</td>\n",
              "      <td>93826.63</td>\n",
              "      <td>0</td>\n",
              "    </tr>\n",
              "    <tr>\n",
              "      <th>4</th>\n",
              "      <td>5</td>\n",
              "      <td>15737888</td>\n",
              "      <td>Mitchell</td>\n",
              "      <td>850</td>\n",
              "      <td>Spain</td>\n",
              "      <td>Female</td>\n",
              "      <td>43</td>\n",
              "      <td>2</td>\n",
              "      <td>125510.82</td>\n",
              "      <td>1</td>\n",
              "      <td>1</td>\n",
              "      <td>1</td>\n",
              "      <td>79084.10</td>\n",
              "      <td>0</td>\n",
              "    </tr>\n",
              "  </tbody>\n",
              "</table>\n",
              "</div>\n",
              "      <button class=\"colab-df-convert\" onclick=\"convertToInteractive('df-2f960fbc-24c9-4267-8c9b-e25264f25a5f')\"\n",
              "              title=\"Convert this dataframe to an interactive table.\"\n",
              "              style=\"display:none;\">\n",
              "        \n",
              "  <svg xmlns=\"http://www.w3.org/2000/svg\" height=\"24px\"viewBox=\"0 0 24 24\"\n",
              "       width=\"24px\">\n",
              "    <path d=\"M0 0h24v24H0V0z\" fill=\"none\"/>\n",
              "    <path d=\"M18.56 5.44l.94 2.06.94-2.06 2.06-.94-2.06-.94-.94-2.06-.94 2.06-2.06.94zm-11 1L8.5 8.5l.94-2.06 2.06-.94-2.06-.94L8.5 2.5l-.94 2.06-2.06.94zm10 10l.94 2.06.94-2.06 2.06-.94-2.06-.94-.94-2.06-.94 2.06-2.06.94z\"/><path d=\"M17.41 7.96l-1.37-1.37c-.4-.4-.92-.59-1.43-.59-.52 0-1.04.2-1.43.59L10.3 9.45l-7.72 7.72c-.78.78-.78 2.05 0 2.83L4 21.41c.39.39.9.59 1.41.59.51 0 1.02-.2 1.41-.59l7.78-7.78 2.81-2.81c.8-.78.8-2.07 0-2.86zM5.41 20L4 18.59l7.72-7.72 1.47 1.35L5.41 20z\"/>\n",
              "  </svg>\n",
              "      </button>\n",
              "      \n",
              "  <style>\n",
              "    .colab-df-container {\n",
              "      display:flex;\n",
              "      flex-wrap:wrap;\n",
              "      gap: 12px;\n",
              "    }\n",
              "\n",
              "    .colab-df-convert {\n",
              "      background-color: #E8F0FE;\n",
              "      border: none;\n",
              "      border-radius: 50%;\n",
              "      cursor: pointer;\n",
              "      display: none;\n",
              "      fill: #1967D2;\n",
              "      height: 32px;\n",
              "      padding: 0 0 0 0;\n",
              "      width: 32px;\n",
              "    }\n",
              "\n",
              "    .colab-df-convert:hover {\n",
              "      background-color: #E2EBFA;\n",
              "      box-shadow: 0px 1px 2px rgba(60, 64, 67, 0.3), 0px 1px 3px 1px rgba(60, 64, 67, 0.15);\n",
              "      fill: #174EA6;\n",
              "    }\n",
              "\n",
              "    [theme=dark] .colab-df-convert {\n",
              "      background-color: #3B4455;\n",
              "      fill: #D2E3FC;\n",
              "    }\n",
              "\n",
              "    [theme=dark] .colab-df-convert:hover {\n",
              "      background-color: #434B5C;\n",
              "      box-shadow: 0px 1px 3px 1px rgba(0, 0, 0, 0.15);\n",
              "      filter: drop-shadow(0px 1px 2px rgba(0, 0, 0, 0.3));\n",
              "      fill: #FFFFFF;\n",
              "    }\n",
              "  </style>\n",
              "\n",
              "      <script>\n",
              "        const buttonEl =\n",
              "          document.querySelector('#df-2f960fbc-24c9-4267-8c9b-e25264f25a5f button.colab-df-convert');\n",
              "        buttonEl.style.display =\n",
              "          google.colab.kernel.accessAllowed ? 'block' : 'none';\n",
              "\n",
              "        async function convertToInteractive(key) {\n",
              "          const element = document.querySelector('#df-2f960fbc-24c9-4267-8c9b-e25264f25a5f');\n",
              "          const dataTable =\n",
              "            await google.colab.kernel.invokeFunction('convertToInteractive',\n",
              "                                                     [key], {});\n",
              "          if (!dataTable) return;\n",
              "\n",
              "          const docLinkHtml = 'Like what you see? Visit the ' +\n",
              "            '<a target=\"_blank\" href=https://colab.research.google.com/notebooks/data_table.ipynb>data table notebook</a>'\n",
              "            + ' to learn more about interactive tables.';\n",
              "          element.innerHTML = '';\n",
              "          dataTable['output_type'] = 'display_data';\n",
              "          await google.colab.output.renderOutput(dataTable, element);\n",
              "          const docLink = document.createElement('div');\n",
              "          docLink.innerHTML = docLinkHtml;\n",
              "          element.appendChild(docLink);\n",
              "        }\n",
              "      </script>\n",
              "    </div>\n",
              "  </div>\n",
              "  "
            ]
          },
          "metadata": {},
          "execution_count": 5
        }
      ]
    },
    {
      "cell_type": "markdown",
      "source": [
        "## 3. Understanding Data"
      ],
      "metadata": {
        "id": "V1G73EXvBK_q"
      }
    },
    {
      "cell_type": "code",
      "source": [
        "data.shape\n"
      ],
      "metadata": {
        "colab": {
          "base_uri": "https://localhost:8080/"
        },
        "id": "Nk2yE61f0_JH",
        "outputId": "fe9db0b6-a777-42c8-963c-ac03f5031438"
      },
      "execution_count": 49,
      "outputs": [
        {
          "output_type": "execute_result",
          "data": {
            "text/plain": [
              "(10000, 14)"
            ]
          },
          "metadata": {},
          "execution_count": 49
        }
      ]
    },
    {
      "cell_type": "code",
      "source": [
        "data.isna().sum()"
      ],
      "metadata": {
        "colab": {
          "base_uri": "https://localhost:8080/"
        },
        "id": "F0bX82Vc1GT8",
        "outputId": "47e549ad-5c09-4376-8cc0-741deb6cd483"
      },
      "execution_count": 50,
      "outputs": [
        {
          "output_type": "execute_result",
          "data": {
            "text/plain": [
              "RowNumber          0\n",
              "CustomerId         0\n",
              "Surname            0\n",
              "CreditScore        0\n",
              "Geography          0\n",
              "Gender             0\n",
              "Age                0\n",
              "Tenure             0\n",
              "Balance            0\n",
              "NumOfProducts      0\n",
              "HasCrCard          0\n",
              "IsActiveMember     0\n",
              "EstimatedSalary    0\n",
              "Exited             0\n",
              "dtype: int64"
            ]
          },
          "metadata": {},
          "execution_count": 50
        }
      ]
    },
    {
      "cell_type": "code",
      "source": [
        "data.dtypes"
      ],
      "metadata": {
        "colab": {
          "base_uri": "https://localhost:8080/"
        },
        "id": "SbOfOAvHBWLJ",
        "outputId": "13a1fe1e-e6cf-4e3c-dbe1-ebf5b85fa0c4"
      },
      "execution_count": 51,
      "outputs": [
        {
          "output_type": "execute_result",
          "data": {
            "text/plain": [
              "RowNumber            int64\n",
              "CustomerId           int64\n",
              "Surname             object\n",
              "CreditScore          int64\n",
              "Geography           object\n",
              "Gender              object\n",
              "Age                  int64\n",
              "Tenure               int64\n",
              "Balance            float64\n",
              "NumOfProducts        int64\n",
              "HasCrCard            int64\n",
              "IsActiveMember       int64\n",
              "EstimatedSalary    float64\n",
              "Exited               int64\n",
              "dtype: object"
            ]
          },
          "metadata": {},
          "execution_count": 51
        }
      ]
    },
    {
      "cell_type": "code",
      "source": [
        "sns.countplot(x=\"Exited\", data=data)"
      ],
      "metadata": {
        "colab": {
          "base_uri": "https://localhost:8080/",
          "height": 302
        },
        "id": "UJF8_YheBWD1",
        "outputId": "c081c7b0-d2d0-4ebf-9203-c6b3c4de0a7c"
      },
      "execution_count": 72,
      "outputs": [
        {
          "output_type": "execute_result",
          "data": {
            "text/plain": [
              "<matplotlib.axes._subplots.AxesSubplot at 0x7fdfe0874d30>"
            ]
          },
          "metadata": {},
          "execution_count": 72
        },
        {
          "output_type": "display_data",
          "data": {
            "text/plain": [
              "<Figure size 432x288 with 1 Axes>"
            ],
            "image/png": "[encoded data removed]"
          },
          "metadata": {}
        }
      ]
    },
    {
      "cell_type": "markdown",
      "source": [
        "> We can see that aound 2000 people have exited the bank"
      ],
      "metadata": {
        "id": "GddUpsrkCfv0"
      }
    },
    {
      "cell_type": "code",
      "source": [
        "exited_cust= data.loc[data['Exited']==1]\n",
        "non_exited_cust= data.loc[data['Exited']==0]"
      ],
      "metadata": {
        "id": "-StmBBlPBV9n"
      },
      "execution_count": 76,
      "outputs": []
    },
    {
      "cell_type": "code",
      "source": [
        "sns.countplot(data=non_exited_cust,x= 'Geography')"
      ],
      "metadata": {
        "colab": {
          "base_uri": "https://localhost:8080/",
          "height": 302
        },
        "id": "GFzHOCkrBV1j",
        "outputId": "a3f2602b-ff8b-4806-fc94-dbec0e30a04a"
      },
      "execution_count": 83,
      "outputs": [
        {
          "output_type": "execute_result",
          "data": {
            "text/plain": [
              "<matplotlib.axes._subplots.AxesSubplot at 0x7fdfdf50f130>"
            ]
          },
          "metadata": {},
          "execution_count": 83
        },
        {
          "output_type": "display_data",
          "data": {
            "text/plain": [
              "<Figure size 432x288 with 1 Axes>"
            ],
            "image/png": "[encoded data removed]"
          },
          "metadata": {}
        }
      ]
    },
    {
      "cell_type": "code",
      "source": [
        "sns.countplot(data=exited_cust,x= 'Geography')"
      ],
      "metadata": {
        "colab": {
          "base_uri": "https://localhost:8080/",
          "height": 302
        },
        "id": "jo9M5D5wBVt-",
        "outputId": "d586021c-6b9f-4fe4-c4a6-a08e98ae222a"
      },
      "execution_count": 84,
      "outputs": [
        {
          "output_type": "execute_result",
          "data": {
            "text/plain": [
              "<matplotlib.axes._subplots.AxesSubplot at 0x7fdfdf499880>"
            ]
          },
          "metadata": {},
          "execution_count": 84
        },
        {
          "output_type": "display_data",
          "data": {
            "text/plain": [
              "<Figure size 432x288 with 1 Axes>"
            ],
            "image/png": "[encoded data removed]"
          },
          "metadata": {}
        }
      ]
    },
    {
      "cell_type": "markdown",
      "source": [
        "> There is no much significance of location on the churn."
      ],
      "metadata": {
        "id": "e8m7TtxzGnFk"
      }
    },
    {
      "cell_type": "markdown",
      "source": [
        "## 4. Splitting the Data"
      ],
      "metadata": {
        "id": "1klaX857HaaB"
      }
    },
    {
      "cell_type": "code",
      "source": [
        "x = data.iloc[:,3:-1]\n",
        "y = data['Exited']"
      ],
      "metadata": {
        "id": "3H1ZP9541LHO"
      },
      "execution_count": 8,
      "outputs": []
    },
    {
      "cell_type": "code",
      "source": [
        "x.head(5)"
      ],
      "metadata": {
        "colab": {
          "base_uri": "https://localhost:8080/",
          "height": 206
        },
        "id": "zWgbRHxE4U73",
        "outputId": "f5c44fd1-d83c-41a8-fd72-3591db61703a"
      },
      "execution_count": 9,
      "outputs": [
        {
          "output_type": "execute_result",
          "data": {
            "text/plain": [
              "   CreditScore Geography  Gender  Age  Tenure    Balance  NumOfProducts  \\\n",
              "0          619    France  Female   42       2       0.00              1   \n",
              "1          608     Spain  Female   41       1   83807.86              1   \n",
              "2          502    France  Female   42       8  159660.80              3   \n",
              "3          699    France  Female   39       1       0.00              2   \n",
              "4          850     Spain  Female   43       2  125510.82              1   \n",
              "\n",
              "   HasCrCard  IsActiveMember  EstimatedSalary  \n",
              "0          1               1        101348.88  \n",
              "1          0               1        112542.58  \n",
              "2          1               0        113931.57  \n",
              "3          0               0         93826.63  \n",
              "4          1               1         79084.10  "
            ],
            "text/html": [
              "\n",
              "  <div id=\"df-04e9fa0c-3767-48ee-9951-3d5ca3184176\">\n",
              "    <div class=\"colab-df-container\">\n",
              "      <div>\n",
              "<style scoped>\n",
              "    .dataframe tbody tr th:only-of-type {\n",
              "        vertical-align: middle;\n",
              "    }\n",
              "\n",
              "    .dataframe tbody tr th {\n",
              "        vertical-align: top;\n",
              "    }\n",
              "\n",
              "    .dataframe thead th {\n",
              "        text-align: right;\n",
              "    }\n",
              "</style>\n",
              "<table border=\"1\" class=\"dataframe\">\n",
              "  <thead>\n",
              "    <tr style=\"text-align: right;\">\n",
              "      <th></th>\n",
              "      <th>CreditScore</th>\n",
              "      <th>Geography</th>\n",
              "      <th>Gender</th>\n",
              "      <th>Age</th>\n",
              "      <th>Tenure</th>\n",
              "      <th>Balance</th>\n",
              "      <th>NumOfProducts</th>\n",
              "      <th>HasCrCard</th>\n",
              "      <th>IsActiveMember</th>\n",
              "      <th>EstimatedSalary</th>\n",
              "    </tr>\n",
              "  </thead>\n",
              "  <tbody>\n",
              "    <tr>\n",
              "      <th>0</th>\n",
              "      <td>619</td>\n",
              "      <td>France</td>\n",
              "      <td>Female</td>\n",
              "      <td>42</td>\n",
              "      <td>2</td>\n",
              "      <td>0.00</td>\n",
              "      <td>1</td>\n",
              "      <td>1</td>\n",
              "      <td>1</td>\n",
              "      <td>101348.88</td>\n",
              "    </tr>\n",
              "    <tr>\n",
              "      <th>1</th>\n",
              "      <td>608</td>\n",
              "      <td>Spain</td>\n",
              "      <td>Female</td>\n",
              "      <td>41</td>\n",
              "      <td>1</td>\n",
              "      <td>83807.86</td>\n",
              "      <td>1</td>\n",
              "      <td>0</td>\n",
              "      <td>1</td>\n",
              "      <td>112542.58</td>\n",
              "    </tr>\n",
              "    <tr>\n",
              "      <th>2</th>\n",
              "      <td>502</td>\n",
              "      <td>France</td>\n",
              "      <td>Female</td>\n",
              "      <td>42</td>\n",
              "      <td>8</td>\n",
              "      <td>159660.80</td>\n",
              "      <td>3</td>\n",
              "      <td>1</td>\n",
              "      <td>0</td>\n",
              "      <td>113931.57</td>\n",
              "    </tr>\n",
              "    <tr>\n",
              "      <th>3</th>\n",
              "      <td>699</td>\n",
              "      <td>France</td>\n",
              "      <td>Female</td>\n",
              "      <td>39</td>\n",
              "      <td>1</td>\n",
              "      <td>0.00</td>\n",
              "      <td>2</td>\n",
              "      <td>0</td>\n",
              "      <td>0</td>\n",
              "      <td>93826.63</td>\n",
              "    </tr>\n",
              "    <tr>\n",
              "      <th>4</th>\n",
              "      <td>850</td>\n",
              "      <td>Spain</td>\n",
              "      <td>Female</td>\n",
              "      <td>43</td>\n",
              "      <td>2</td>\n",
              "      <td>125510.82</td>\n",
              "      <td>1</td>\n",
              "      <td>1</td>\n",
              "      <td>1</td>\n",
              "      <td>79084.10</td>\n",
              "    </tr>\n",
              "  </tbody>\n",
              "</table>\n",
              "</div>\n",
              "      <button class=\"colab-df-convert\" onclick=\"convertToInteractive('df-04e9fa0c-3767-48ee-9951-3d5ca3184176')\"\n",
              "              title=\"Convert this dataframe to an interactive table.\"\n",
              "              style=\"display:none;\">\n",
              "        \n",
              "  <svg xmlns=\"http://www.w3.org/2000/svg\" height=\"24px\"viewBox=\"0 0 24 24\"\n",
              "       width=\"24px\">\n",
              "    <path d=\"M0 0h24v24H0V0z\" fill=\"none\"/>\n",
              "    <path d=\"M18.56 5.44l.94 2.06.94-2.06 2.06-.94-2.06-.94-.94-2.06-.94 2.06-2.06.94zm-11 1L8.5 8.5l.94-2.06 2.06-.94-2.06-.94L8.5 2.5l-.94 2.06-2.06.94zm10 10l.94 2.06.94-2.06 2.06-.94-2.06-.94-.94-2.06-.94 2.06-2.06.94z\"/><path d=\"M17.41 7.96l-1.37-1.37c-.4-.4-.92-.59-1.43-.59-.52 0-1.04.2-1.43.59L10.3 9.45l-7.72 7.72c-.78.78-.78 2.05 0 2.83L4 21.41c.39.39.9.59 1.41.59.51 0 1.02-.2 1.41-.59l7.78-7.78 2.81-2.81c.8-.78.8-2.07 0-2.86zM5.41 20L4 18.59l7.72-7.72 1.47 1.35L5.41 20z\"/>\n",
              "  </svg>\n",
              "      </button>\n",
              "      \n",
              "  <style>\n",
              "    .colab-df-container {\n",
              "      display:flex;\n",
              "      flex-wrap:wrap;\n",
              "      gap: 12px;\n",
              "    }\n",
              "\n",
              "    .colab-df-convert {\n",
              "      background-color: #E8F0FE;\n",
              "      border: none;\n",
              "      border-radius: 50%;\n",
              "      cursor: pointer;\n",
              "      display: none;\n",
              "      fill: #1967D2;\n",
              "      height: 32px;\n",
              "      padding: 0 0 0 0;\n",
              "      width: 32px;\n",
              "    }\n",
              "\n",
              "    .colab-df-convert:hover {\n",
              "      background-color: #E2EBFA;\n",
              "      box-shadow: 0px 1px 2px rgba(60, 64, 67, 0.3), 0px 1px 3px 1px rgba(60, 64, 67, 0.15);\n",
              "      fill: #174EA6;\n",
              "    }\n",
              "\n",
              "    [theme=dark] .colab-df-convert {\n",
              "      background-color: #3B4455;\n",
              "      fill: #D2E3FC;\n",
              "    }\n",
              "\n",
              "    [theme=dark] .colab-df-convert:hover {\n",
              "      background-color: #434B5C;\n",
              "      box-shadow: 0px 1px 3px 1px rgba(0, 0, 0, 0.15);\n",
              "      filter: drop-shadow(0px 1px 2px rgba(0, 0, 0, 0.3));\n",
              "      fill: #FFFFFF;\n",
              "    }\n",
              "  </style>\n",
              "\n",
              "      <script>\n",
              "        const buttonEl =\n",
              "          document.querySelector('#df-04e9fa0c-3767-48ee-9951-3d5ca3184176 button.colab-df-convert');\n",
              "        buttonEl.style.display =\n",
              "          google.colab.kernel.accessAllowed ? 'block' : 'none';\n",
              "\n",
              "        async function convertToInteractive(key) {\n",
              "          const element = document.querySelector('#df-04e9fa0c-3767-48ee-9951-3d5ca3184176');\n",
              "          const dataTable =\n",
              "            await google.colab.kernel.invokeFunction('convertToInteractive',\n",
              "                                                     [key], {});\n",
              "          if (!dataTable) return;\n",
              "\n",
              "          const docLinkHtml = 'Like what you see? Visit the ' +\n",
              "            '<a target=\"_blank\" href=https://colab.research.google.com/notebooks/data_table.ipynb>data table notebook</a>'\n",
              "            + ' to learn more about interactive tables.';\n",
              "          element.innerHTML = '';\n",
              "          dataTable['output_type'] = 'display_data';\n",
              "          await google.colab.output.renderOutput(dataTable, element);\n",
              "          const docLink = document.createElement('div');\n",
              "          docLink.innerHTML = docLinkHtml;\n",
              "          element.appendChild(docLink);\n",
              "        }\n",
              "      </script>\n",
              "    </div>\n",
              "  </div>\n",
              "  "
            ]
          },
          "metadata": {},
          "execution_count": 9
        }
      ]
    },
    {
      "cell_type": "code",
      "source": [
        "y"
      ],
      "metadata": {
        "colab": {
          "base_uri": "https://localhost:8080/"
        },
        "id": "bzuUSdZY4Y05",
        "outputId": "5e35a7a1-84c7-4089-8354-4b31b4df4e22"
      },
      "execution_count": 10,
      "outputs": [
        {
          "output_type": "execute_result",
          "data": {
            "text/plain": [
              "0       1\n",
              "1       0\n",
              "2       1\n",
              "3       0\n",
              "4       0\n",
              "       ..\n",
              "9995    0\n",
              "9996    0\n",
              "9997    1\n",
              "9998    1\n",
              "9999    0\n",
              "Name: Exited, Length: 10000, dtype: int64"
            ]
          },
          "metadata": {},
          "execution_count": 10
        }
      ]
    },
    {
      "cell_type": "code",
      "source": [
        "data['Geography'].unique()"
      ],
      "metadata": {
        "colab": {
          "base_uri": "https://localhost:8080/"
        },
        "id": "iuE0oVhD45GZ",
        "outputId": "adad19b7-a750-4d14-9e4e-29db940f1e24"
      },
      "execution_count": 11,
      "outputs": [
        {
          "output_type": "execute_result",
          "data": {
            "text/plain": [
              "array(['France', 'Spain', 'Germany'], dtype=object)"
            ]
          },
          "metadata": {},
          "execution_count": 11
        }
      ]
    },
    {
      "cell_type": "code",
      "source": [
        "# Feature Engineering\n",
        "geography = pd.get_dummies(x['Geography'])\n",
        "gender = pd.get_dummies(x['Gender'])"
      ],
      "metadata": {
        "id": "gOuMvClk4alP"
      },
      "execution_count": 12,
      "outputs": []
    },
    {
      "cell_type": "code",
      "source": [
        "# concatenate these variables with the dataframe\n",
        "x = x.drop(['Geography','Gender'], axis=1)"
      ],
      "metadata": {
        "id": "kuiq8JD-5SGc"
      },
      "execution_count": 13,
      "outputs": []
    },
    {
      "cell_type": "code",
      "source": [
        "x = pd.concat([x, gender, geography], axis=1)"
      ],
      "metadata": {
        "id": "M5I-DgxB5UhF"
      },
      "execution_count": 14,
      "outputs": []
    },
    {
      "cell_type": "code",
      "source": [
        "#Splitting into training and testing data\n",
        "x_train, x_test, y_train , y_test = train_test_split(x , y, test_size=0.2, random_state=0)"
      ],
      "metadata": {
        "id": "PDphY8ho6Ksy"
      },
      "execution_count": 15,
      "outputs": []
    },
    {
      "cell_type": "code",
      "source": [
        "#Feature scaling\n",
        "\n",
        "sc = StandardScaler()\n",
        "x_train= sc.fit_transform(x_train)\n",
        "x_test = sc.transform(x_test)"
      ],
      "metadata": {
        "id": "IkGzwIEw6-Ev"
      },
      "execution_count": 16,
      "outputs": []
    },
    {
      "cell_type": "code",
      "source": [
        "x_train"
      ],
      "metadata": {
        "colab": {
          "base_uri": "https://localhost:8080/"
        },
        "id": "P3mkZyQw8p4b",
        "outputId": "905af1c0-6b0b-444c-aa8f-8cb4fe682335"
      },
      "execution_count": 17,
      "outputs": [
        {
          "output_type": "execute_result",
          "data": {
            "text/plain": [
              "array([[ 0.16958176, -0.46460796,  0.00666099, ..., -1.01460667,\n",
              "        -0.5698444 ,  1.74309049],\n",
              "       [-2.30455945,  0.30102557, -1.37744033, ..., -1.01460667,\n",
              "         1.75486502, -0.57369368],\n",
              "       [-1.19119591, -0.94312892, -1.031415  , ...,  0.98560362,\n",
              "        -0.5698444 , -0.57369368],\n",
              "       ...,\n",
              "       [ 0.9015152 , -0.36890377,  0.00666099, ...,  0.98560362,\n",
              "        -0.5698444 , -0.57369368],\n",
              "       [-0.62420521, -0.08179119,  1.39076231, ..., -1.01460667,\n",
              "        -0.5698444 ,  1.74309049],\n",
              "       [-0.28401079,  0.87525072, -1.37744033, ..., -1.01460667,\n",
              "         1.75486502, -0.57369368]])"
            ]
          },
          "metadata": {},
          "execution_count": 17
        }
      ]
    },
    {
      "cell_type": "code",
      "source": [
        "x_train.shape"
      ],
      "metadata": {
        "colab": {
          "base_uri": "https://localhost:8080/"
        },
        "id": "iskJyZH08sAG",
        "outputId": "30a9c77c-a4a0-4341-a622-67821aa57893"
      },
      "execution_count": 18,
      "outputs": [
        {
          "output_type": "execute_result",
          "data": {
            "text/plain": [
              "(8000, 13)"
            ]
          },
          "metadata": {},
          "execution_count": 18
        }
      ]
    },
    {
      "cell_type": "code",
      "source": [
        "x_test.shape"
      ],
      "metadata": {
        "colab": {
          "base_uri": "https://localhost:8080/"
        },
        "id": "vWvVE0NS8umu",
        "outputId": "47cfa4c9-89dd-4350-d87a-19261e5584ca"
      },
      "execution_count": 19,
      "outputs": [
        {
          "output_type": "execute_result",
          "data": {
            "text/plain": [
              "(2000, 13)"
            ]
          },
          "metadata": {},
          "execution_count": 19
        }
      ]
    },
    {
      "cell_type": "markdown",
      "source": [
        "## 5. Model Building"
      ],
      "metadata": {
        "id": "LkU8xdAO9Fhn"
      }
    },
    {
      "cell_type": "code",
      "source": [
        "#Initializing ANN\n",
        "classifier = Sequential()\n",
        "\n",
        "# Adding input layer\n",
        "classifier.add(Dense(units = 11, activation = 'relu'))\n",
        "\n",
        "# Adding first hidden layer\n",
        "classifier.add(Dense(units = 7, activation = 'relu'))\n",
        "\n",
        "# Adding 2nd hidden layer\n",
        "classifier.add(Dense(units= 6 , activation = 'relu'))\n",
        "\n",
        "# Adding outputlayer\n",
        "classifier.add(Dense(1, activation = 'sigmoid'))"
      ],
      "metadata": {
        "id": "aKntv2-e9Biz"
      },
      "execution_count": 22,
      "outputs": []
    },
    {
      "cell_type": "code",
      "source": [
        "# to set learning rate in optimizers (optional)\n",
        "## opt =  tensorflow.keras.optimizers.Adam(learning_rate= 0.01)"
      ],
      "metadata": {
        "id": "teT4j0fAwszQ"
      },
      "execution_count": 23,
      "outputs": []
    },
    {
      "cell_type": "code",
      "source": [
        "classifier.compile(optimizer='adam', loss= 'binary_crossentropy', metrics=['accuracy'])"
      ],
      "metadata": {
        "id": "_Q949Q1ax_pj"
      },
      "execution_count": 24,
      "outputs": []
    },
    {
      "cell_type": "code",
      "source": [
        "model = classifier.fit(x_train,y_train, validation_split= 0.33, batch_size=10, epochs= 100)"
      ],
      "metadata": {
        "colab": {
          "base_uri": "https://localhost:8080/"
        },
        "id": "vWQK4S2-ynKu",
        "outputId": "aa8dc721-a8d0-4d4c-8f36-ad0026b5eccd"
      },
      "execution_count": 28,
      "outputs": [
        {
          "output_type": "stream",
          "name": "stdout",
          "text": [
            "Epoch 1/100\n",
            "536/536 [==============================] - 2s 4ms/step - loss: 0.3192 - accuracy: 0.8664 - val_loss: 0.3747 - val_accuracy: 0.8383\n",
            "Epoch 2/100\n",
            "536/536 [==============================] - 2s 4ms/step - loss: 0.3177 - accuracy: 0.8688 - val_loss: 0.3726 - val_accuracy: 0.8413\n",
            "Epoch 3/100\n",
            "536/536 [==============================] - 2s 4ms/step - loss: 0.3182 - accuracy: 0.8671 - val_loss: 0.3773 - val_accuracy: 0.8421\n",
            "Epoch 4/100\n",
            "536/536 [==============================] - 2s 3ms/step - loss: 0.3181 - accuracy: 0.8677 - val_loss: 0.3712 - val_accuracy: 0.8466\n",
            "Epoch 5/100\n",
            "536/536 [==============================] - 2s 5ms/step - loss: 0.3180 - accuracy: 0.8696 - val_loss: 0.3736 - val_accuracy: 0.8429\n",
            "Epoch 6/100\n",
            "536/536 [==============================] - 2s 4ms/step - loss: 0.3184 - accuracy: 0.8698 - val_loss: 0.3716 - val_accuracy: 0.8470\n",
            "Epoch 7/100\n",
            "536/536 [==============================] - 2s 4ms/step - loss: 0.3188 - accuracy: 0.8694 - val_loss: 0.3719 - val_accuracy: 0.8448\n",
            "Epoch 8/100\n",
            "536/536 [==============================] - 2s 4ms/step - loss: 0.3182 - accuracy: 0.8673 - val_loss: 0.3712 - val_accuracy: 0.8478\n",
            "Epoch 9/100\n",
            "536/536 [==============================] - 2s 4ms/step - loss: 0.3171 - accuracy: 0.8698 - val_loss: 0.3733 - val_accuracy: 0.8493\n",
            "Epoch 10/100\n",
            "536/536 [==============================] - 2s 4ms/step - loss: 0.3179 - accuracy: 0.8703 - val_loss: 0.3732 - val_accuracy: 0.8451\n",
            "Epoch 11/100\n",
            "536/536 [==============================] - 2s 4ms/step - loss: 0.3167 - accuracy: 0.8684 - val_loss: 0.3708 - val_accuracy: 0.8501\n",
            "Epoch 12/100\n",
            "536/536 [==============================] - 2s 4ms/step - loss: 0.3173 - accuracy: 0.8705 - val_loss: 0.3714 - val_accuracy: 0.8508\n",
            "Epoch 13/100\n",
            "536/536 [==============================] - 2s 4ms/step - loss: 0.3163 - accuracy: 0.8686 - val_loss: 0.3706 - val_accuracy: 0.8489\n",
            "Epoch 14/100\n",
            "536/536 [==============================] - 3s 5ms/step - loss: 0.3172 - accuracy: 0.8686 - val_loss: 0.3723 - val_accuracy: 0.8451\n",
            "Epoch 15/100\n",
            "536/536 [==============================] - 2s 4ms/step - loss: 0.3168 - accuracy: 0.8688 - val_loss: 0.3744 - val_accuracy: 0.8482\n",
            "Epoch 16/100\n",
            "536/536 [==============================] - 3s 5ms/step - loss: 0.3174 - accuracy: 0.8686 - val_loss: 0.3750 - val_accuracy: 0.8519\n",
            "Epoch 17/100\n",
            "536/536 [==============================] - 2s 4ms/step - loss: 0.3160 - accuracy: 0.8720 - val_loss: 0.3748 - val_accuracy: 0.8478\n",
            "Epoch 18/100\n",
            "536/536 [==============================] - 2s 4ms/step - loss: 0.3169 - accuracy: 0.8686 - val_loss: 0.3710 - val_accuracy: 0.8493\n",
            "Epoch 19/100\n",
            "536/536 [==============================] - 2s 4ms/step - loss: 0.3158 - accuracy: 0.8690 - val_loss: 0.3733 - val_accuracy: 0.8482\n",
            "Epoch 20/100\n",
            "536/536 [==============================] - 2s 3ms/step - loss: 0.3165 - accuracy: 0.8688 - val_loss: 0.3695 - val_accuracy: 0.8504\n",
            "Epoch 21/100\n",
            "536/536 [==============================] - 2s 4ms/step - loss: 0.3167 - accuracy: 0.8675 - val_loss: 0.3729 - val_accuracy: 0.8474\n",
            "Epoch 22/100\n",
            "536/536 [==============================] - 2s 5ms/step - loss: 0.3159 - accuracy: 0.8668 - val_loss: 0.3739 - val_accuracy: 0.8485\n",
            "Epoch 23/100\n",
            "536/536 [==============================] - 2s 4ms/step - loss: 0.3166 - accuracy: 0.8694 - val_loss: 0.3731 - val_accuracy: 0.8482\n",
            "Epoch 24/100\n",
            "536/536 [==============================] - 2s 4ms/step - loss: 0.3163 - accuracy: 0.8707 - val_loss: 0.3747 - val_accuracy: 0.8455\n",
            "Epoch 25/100\n",
            "536/536 [==============================] - 2s 4ms/step - loss: 0.3152 - accuracy: 0.8688 - val_loss: 0.3703 - val_accuracy: 0.8508\n",
            "Epoch 26/100\n",
            "536/536 [==============================] - 2s 4ms/step - loss: 0.3165 - accuracy: 0.8690 - val_loss: 0.3732 - val_accuracy: 0.8482\n",
            "Epoch 27/100\n",
            "536/536 [==============================] - 2s 4ms/step - loss: 0.3153 - accuracy: 0.8671 - val_loss: 0.3748 - val_accuracy: 0.8448\n",
            "Epoch 28/100\n",
            "536/536 [==============================] - 2s 3ms/step - loss: 0.3152 - accuracy: 0.8666 - val_loss: 0.3764 - val_accuracy: 0.8485\n",
            "Epoch 29/100\n",
            "536/536 [==============================] - 2s 4ms/step - loss: 0.3150 - accuracy: 0.8683 - val_loss: 0.3739 - val_accuracy: 0.8501\n",
            "Epoch 30/100\n",
            "536/536 [==============================] - 2s 4ms/step - loss: 0.3159 - accuracy: 0.8684 - val_loss: 0.3734 - val_accuracy: 0.8478\n",
            "Epoch 31/100\n",
            "536/536 [==============================] - 2s 4ms/step - loss: 0.3155 - accuracy: 0.8694 - val_loss: 0.3744 - val_accuracy: 0.8478\n",
            "Epoch 32/100\n",
            "536/536 [==============================] - 2s 4ms/step - loss: 0.3153 - accuracy: 0.8690 - val_loss: 0.3730 - val_accuracy: 0.8482\n",
            "Epoch 33/100\n",
            "536/536 [==============================] - 2s 4ms/step - loss: 0.3144 - accuracy: 0.8705 - val_loss: 0.3745 - val_accuracy: 0.8489\n",
            "Epoch 34/100\n",
            "536/536 [==============================] - 2s 4ms/step - loss: 0.3151 - accuracy: 0.8677 - val_loss: 0.3740 - val_accuracy: 0.8459\n",
            "Epoch 35/100\n",
            "536/536 [==============================] - 2s 4ms/step - loss: 0.3143 - accuracy: 0.8692 - val_loss: 0.3784 - val_accuracy: 0.8508\n",
            "Epoch 36/100\n",
            "536/536 [==============================] - 2s 4ms/step - loss: 0.3147 - accuracy: 0.8703 - val_loss: 0.3769 - val_accuracy: 0.8429\n",
            "Epoch 37/100\n",
            "536/536 [==============================] - 2s 4ms/step - loss: 0.3147 - accuracy: 0.8684 - val_loss: 0.3758 - val_accuracy: 0.8523\n",
            "Epoch 38/100\n",
            "536/536 [==============================] - 2s 4ms/step - loss: 0.3139 - accuracy: 0.8688 - val_loss: 0.3733 - val_accuracy: 0.8501\n",
            "Epoch 39/100\n",
            "536/536 [==============================] - 2s 3ms/step - loss: 0.3149 - accuracy: 0.8692 - val_loss: 0.3765 - val_accuracy: 0.8523\n",
            "Epoch 40/100\n",
            "536/536 [==============================] - 2s 4ms/step - loss: 0.3140 - accuracy: 0.8684 - val_loss: 0.3759 - val_accuracy: 0.8470\n",
            "Epoch 41/100\n",
            "536/536 [==============================] - 2s 4ms/step - loss: 0.3146 - accuracy: 0.8696 - val_loss: 0.3741 - val_accuracy: 0.8485\n",
            "Epoch 42/100\n",
            "536/536 [==============================] - 4s 7ms/step - loss: 0.3134 - accuracy: 0.8692 - val_loss: 0.3752 - val_accuracy: 0.8501\n",
            "Epoch 43/100\n",
            "536/536 [==============================] - 3s 5ms/step - loss: 0.3146 - accuracy: 0.8677 - val_loss: 0.3732 - val_accuracy: 0.8504\n",
            "Epoch 44/100\n",
            "536/536 [==============================] - 2s 4ms/step - loss: 0.3138 - accuracy: 0.8698 - val_loss: 0.3759 - val_accuracy: 0.8497\n",
            "Epoch 45/100\n",
            "536/536 [==============================] - 2s 3ms/step - loss: 0.3137 - accuracy: 0.8692 - val_loss: 0.3743 - val_accuracy: 0.8489\n",
            "Epoch 46/100\n",
            "536/536 [==============================] - 2s 4ms/step - loss: 0.3136 - accuracy: 0.8688 - val_loss: 0.3763 - val_accuracy: 0.8485\n",
            "Epoch 47/100\n",
            "536/536 [==============================] - 2s 4ms/step - loss: 0.3126 - accuracy: 0.8707 - val_loss: 0.3782 - val_accuracy: 0.8463\n",
            "Epoch 48/100\n",
            "536/536 [==============================] - 2s 4ms/step - loss: 0.3126 - accuracy: 0.8718 - val_loss: 0.3757 - val_accuracy: 0.8478\n",
            "Epoch 49/100\n",
            "536/536 [==============================] - 2s 4ms/step - loss: 0.3130 - accuracy: 0.8696 - val_loss: 0.3745 - val_accuracy: 0.8463\n",
            "Epoch 50/100\n",
            "536/536 [==============================] - 2s 3ms/step - loss: 0.3130 - accuracy: 0.8698 - val_loss: 0.3784 - val_accuracy: 0.8489\n",
            "Epoch 51/100\n",
            "536/536 [==============================] - 2s 4ms/step - loss: 0.3127 - accuracy: 0.8688 - val_loss: 0.3788 - val_accuracy: 0.8440\n",
            "Epoch 52/100\n",
            "536/536 [==============================] - 2s 4ms/step - loss: 0.3130 - accuracy: 0.8694 - val_loss: 0.3765 - val_accuracy: 0.8501\n",
            "Epoch 53/100\n",
            "536/536 [==============================] - 2s 3ms/step - loss: 0.3126 - accuracy: 0.8707 - val_loss: 0.3766 - val_accuracy: 0.8440\n",
            "Epoch 54/100\n",
            "536/536 [==============================] - 2s 3ms/step - loss: 0.3115 - accuracy: 0.8718 - val_loss: 0.3792 - val_accuracy: 0.8478\n",
            "Epoch 55/100\n",
            "536/536 [==============================] - 2s 4ms/step - loss: 0.3127 - accuracy: 0.8718 - val_loss: 0.3764 - val_accuracy: 0.8489\n",
            "Epoch 56/100\n",
            "536/536 [==============================] - 2s 4ms/step - loss: 0.3125 - accuracy: 0.8701 - val_loss: 0.3767 - val_accuracy: 0.8463\n",
            "Epoch 57/100\n",
            "536/536 [==============================] - 2s 3ms/step - loss: 0.3129 - accuracy: 0.8696 - val_loss: 0.3783 - val_accuracy: 0.8429\n",
            "Epoch 58/100\n",
            "536/536 [==============================] - 2s 3ms/step - loss: 0.3109 - accuracy: 0.8718 - val_loss: 0.3761 - val_accuracy: 0.8501\n",
            "Epoch 59/100\n",
            "536/536 [==============================] - 2s 4ms/step - loss: 0.3122 - accuracy: 0.8707 - val_loss: 0.3764 - val_accuracy: 0.8463\n",
            "Epoch 60/100\n",
            "536/536 [==============================] - 2s 4ms/step - loss: 0.3119 - accuracy: 0.8716 - val_loss: 0.3747 - val_accuracy: 0.8523\n",
            "Epoch 61/100\n",
            "536/536 [==============================] - 2s 3ms/step - loss: 0.3132 - accuracy: 0.8720 - val_loss: 0.3771 - val_accuracy: 0.8493\n",
            "Epoch 62/100\n",
            "536/536 [==============================] - 2s 4ms/step - loss: 0.3112 - accuracy: 0.8720 - val_loss: 0.3806 - val_accuracy: 0.8463\n",
            "Epoch 63/100\n",
            "536/536 [==============================] - 2s 3ms/step - loss: 0.3117 - accuracy: 0.8688 - val_loss: 0.3774 - val_accuracy: 0.8440\n",
            "Epoch 64/100\n",
            "536/536 [==============================] - 2s 4ms/step - loss: 0.3121 - accuracy: 0.8709 - val_loss: 0.3790 - val_accuracy: 0.8463\n",
            "Epoch 65/100\n",
            "536/536 [==============================] - 2s 4ms/step - loss: 0.3112 - accuracy: 0.8705 - val_loss: 0.3790 - val_accuracy: 0.8478\n",
            "Epoch 66/100\n",
            "536/536 [==============================] - 2s 4ms/step - loss: 0.3103 - accuracy: 0.8714 - val_loss: 0.3846 - val_accuracy: 0.8398\n",
            "Epoch 67/100\n",
            "536/536 [==============================] - 3s 5ms/step - loss: 0.3114 - accuracy: 0.8690 - val_loss: 0.3749 - val_accuracy: 0.8504\n",
            "Epoch 68/100\n",
            "536/536 [==============================] - 2s 4ms/step - loss: 0.3118 - accuracy: 0.8703 - val_loss: 0.3791 - val_accuracy: 0.8413\n",
            "Epoch 69/100\n",
            "536/536 [==============================] - 2s 4ms/step - loss: 0.3113 - accuracy: 0.8720 - val_loss: 0.3777 - val_accuracy: 0.8436\n",
            "Epoch 70/100\n",
            "536/536 [==============================] - 2s 4ms/step - loss: 0.3108 - accuracy: 0.8707 - val_loss: 0.3762 - val_accuracy: 0.8474\n",
            "Epoch 71/100\n",
            "536/536 [==============================] - 2s 3ms/step - loss: 0.3113 - accuracy: 0.8699 - val_loss: 0.3748 - val_accuracy: 0.8497\n",
            "Epoch 72/100\n",
            "536/536 [==============================] - 2s 3ms/step - loss: 0.3107 - accuracy: 0.8703 - val_loss: 0.3769 - val_accuracy: 0.8478\n",
            "Epoch 73/100\n",
            "536/536 [==============================] - 2s 3ms/step - loss: 0.3107 - accuracy: 0.8711 - val_loss: 0.3801 - val_accuracy: 0.8417\n",
            "Epoch 74/100\n",
            "536/536 [==============================] - 2s 4ms/step - loss: 0.3098 - accuracy: 0.8718 - val_loss: 0.3788 - val_accuracy: 0.8519\n",
            "Epoch 75/100\n",
            "536/536 [==============================] - 2s 4ms/step - loss: 0.3111 - accuracy: 0.8735 - val_loss: 0.3777 - val_accuracy: 0.8448\n",
            "Epoch 76/100\n",
            "536/536 [==============================] - 2s 4ms/step - loss: 0.3103 - accuracy: 0.8701 - val_loss: 0.3794 - val_accuracy: 0.8440\n",
            "Epoch 77/100\n",
            "536/536 [==============================] - 2s 3ms/step - loss: 0.3113 - accuracy: 0.8698 - val_loss: 0.3777 - val_accuracy: 0.8497\n",
            "Epoch 78/100\n",
            "536/536 [==============================] - 2s 3ms/step - loss: 0.3103 - accuracy: 0.8701 - val_loss: 0.3819 - val_accuracy: 0.8383\n",
            "Epoch 79/100\n",
            "536/536 [==============================] - 2s 4ms/step - loss: 0.3096 - accuracy: 0.8712 - val_loss: 0.3771 - val_accuracy: 0.8470\n",
            "Epoch 80/100\n",
            "536/536 [==============================] - 2s 4ms/step - loss: 0.3104 - accuracy: 0.8703 - val_loss: 0.3768 - val_accuracy: 0.8459\n",
            "Epoch 81/100\n",
            "536/536 [==============================] - 4s 7ms/step - loss: 0.3101 - accuracy: 0.8707 - val_loss: 0.3782 - val_accuracy: 0.8410\n",
            "Epoch 82/100\n",
            "536/536 [==============================] - 4s 8ms/step - loss: 0.3097 - accuracy: 0.8720 - val_loss: 0.3810 - val_accuracy: 0.8482\n",
            "Epoch 83/100\n",
            "536/536 [==============================] - 3s 6ms/step - loss: 0.3108 - accuracy: 0.8701 - val_loss: 0.3805 - val_accuracy: 0.8383\n",
            "Epoch 84/100\n",
            "536/536 [==============================] - 2s 3ms/step - loss: 0.3100 - accuracy: 0.8709 - val_loss: 0.3767 - val_accuracy: 0.8444\n",
            "Epoch 85/100\n",
            "536/536 [==============================] - 2s 3ms/step - loss: 0.3100 - accuracy: 0.8727 - val_loss: 0.3790 - val_accuracy: 0.8444\n",
            "Epoch 86/100\n",
            "536/536 [==============================] - 2s 3ms/step - loss: 0.3099 - accuracy: 0.8729 - val_loss: 0.3775 - val_accuracy: 0.8429\n",
            "Epoch 87/100\n",
            "536/536 [==============================] - 2s 3ms/step - loss: 0.3094 - accuracy: 0.8711 - val_loss: 0.3794 - val_accuracy: 0.8470\n",
            "Epoch 88/100\n",
            "536/536 [==============================] - 2s 3ms/step - loss: 0.3099 - accuracy: 0.8696 - val_loss: 0.3795 - val_accuracy: 0.8474\n",
            "Epoch 89/100\n",
            "536/536 [==============================] - 2s 3ms/step - loss: 0.3101 - accuracy: 0.8729 - val_loss: 0.3782 - val_accuracy: 0.8421\n",
            "Epoch 90/100\n",
            "536/536 [==============================] - 2s 3ms/step - loss: 0.3094 - accuracy: 0.8739 - val_loss: 0.3809 - val_accuracy: 0.8406\n",
            "Epoch 91/100\n",
            "536/536 [==============================] - 2s 3ms/step - loss: 0.3078 - accuracy: 0.8705 - val_loss: 0.3775 - val_accuracy: 0.8440\n",
            "Epoch 92/100\n",
            "536/536 [==============================] - 2s 3ms/step - loss: 0.3100 - accuracy: 0.8703 - val_loss: 0.3806 - val_accuracy: 0.8410\n",
            "Epoch 93/100\n",
            "536/536 [==============================] - 2s 3ms/step - loss: 0.3091 - accuracy: 0.8711 - val_loss: 0.3779 - val_accuracy: 0.8489\n",
            "Epoch 94/100\n",
            "536/536 [==============================] - 2s 3ms/step - loss: 0.3085 - accuracy: 0.8722 - val_loss: 0.3814 - val_accuracy: 0.8421\n",
            "Epoch 95/100\n",
            "536/536 [==============================] - 2s 3ms/step - loss: 0.3090 - accuracy: 0.8714 - val_loss: 0.3783 - val_accuracy: 0.8436\n",
            "Epoch 96/100\n",
            "536/536 [==============================] - 2s 3ms/step - loss: 0.3091 - accuracy: 0.8735 - val_loss: 0.3804 - val_accuracy: 0.8417\n",
            "Epoch 97/100\n",
            "536/536 [==============================] - 2s 4ms/step - loss: 0.3087 - accuracy: 0.8718 - val_loss: 0.3794 - val_accuracy: 0.8444\n",
            "Epoch 98/100\n",
            "536/536 [==============================] - 2s 4ms/step - loss: 0.3083 - accuracy: 0.8729 - val_loss: 0.3810 - val_accuracy: 0.8474\n",
            "Epoch 99/100\n",
            "536/536 [==============================] - 2s 3ms/step - loss: 0.3091 - accuracy: 0.8724 - val_loss: 0.3785 - val_accuracy: 0.8489\n",
            "Epoch 100/100\n",
            "536/536 [==============================] - 2s 3ms/step - loss: 0.3090 - accuracy: 0.8709 - val_loss: 0.3802 - val_accuracy: 0.8410\n"
          ]
        }
      ]
    },
    {
      "cell_type": "code",
      "source": [
        "# if the accuracy fluctuates in a certain accuracy value when epoch is large we can early stop\n",
        "early_stopping = tf.keras.callbacks.EarlyStopping(\n",
        "    monitor=\"val_loss\",\n",
        "    min_delta=0.0001,\n",
        "    patience=20,\n",
        "    verbose=1,\n",
        "    mode=\"auto\",\n",
        "    baseline=None,\n",
        "    restore_best_weights=False)"
      ],
      "metadata": {
        "id": "oy1gPAIH32rc"
      },
      "execution_count": 29,
      "outputs": []
    },
    {
      "cell_type": "code",
      "source": [
        "model = classifier.fit(x_train,y_train, validation_split= 0.33, batch_size=10, epochs= 100, callbacks = early_stopping)"
      ],
      "metadata": {
        "colab": {
          "base_uri": "https://localhost:8080/"
        },
        "id": "NNGMf4r15f7A",
        "outputId": "84334dd6-43fb-4454-de06-dd85d145206c"
      },
      "execution_count": 31,
      "outputs": [
        {
          "output_type": "stream",
          "name": "stdout",
          "text": [
            "Epoch 1/100\n",
            "536/536 [==============================] - 2s 3ms/step - loss: 0.3081 - accuracy: 0.8746 - val_loss: 0.3867 - val_accuracy: 0.8466\n",
            "Epoch 2/100\n",
            "536/536 [==============================] - 2s 4ms/step - loss: 0.3083 - accuracy: 0.8735 - val_loss: 0.3843 - val_accuracy: 0.8451\n",
            "Epoch 3/100\n",
            "536/536 [==============================] - 2s 3ms/step - loss: 0.3069 - accuracy: 0.8720 - val_loss: 0.3855 - val_accuracy: 0.8387\n",
            "Epoch 4/100\n",
            "536/536 [==============================] - 2s 3ms/step - loss: 0.3066 - accuracy: 0.8724 - val_loss: 0.3844 - val_accuracy: 0.8413\n",
            "Epoch 5/100\n",
            "536/536 [==============================] - 2s 4ms/step - loss: 0.3065 - accuracy: 0.8729 - val_loss: 0.3830 - val_accuracy: 0.8478\n",
            "Epoch 6/100\n",
            "536/536 [==============================] - 2s 4ms/step - loss: 0.3072 - accuracy: 0.8722 - val_loss: 0.3849 - val_accuracy: 0.8413\n",
            "Epoch 7/100\n",
            "536/536 [==============================] - 2s 4ms/step - loss: 0.3068 - accuracy: 0.8711 - val_loss: 0.3903 - val_accuracy: 0.8360\n",
            "Epoch 8/100\n",
            "536/536 [==============================] - 2s 3ms/step - loss: 0.3070 - accuracy: 0.8724 - val_loss: 0.3900 - val_accuracy: 0.8376\n",
            "Epoch 9/100\n",
            "536/536 [==============================] - 2s 4ms/step - loss: 0.3061 - accuracy: 0.8733 - val_loss: 0.3845 - val_accuracy: 0.8417\n",
            "Epoch 10/100\n",
            "536/536 [==============================] - 2s 4ms/step - loss: 0.3066 - accuracy: 0.8722 - val_loss: 0.3953 - val_accuracy: 0.8334\n",
            "Epoch 11/100\n",
            "536/536 [==============================] - 4s 7ms/step - loss: 0.3073 - accuracy: 0.8707 - val_loss: 0.3907 - val_accuracy: 0.8360\n",
            "Epoch 12/100\n",
            "536/536 [==============================] - 2s 3ms/step - loss: 0.3073 - accuracy: 0.8726 - val_loss: 0.3855 - val_accuracy: 0.8436\n",
            "Epoch 13/100\n",
            "536/536 [==============================] - 2s 3ms/step - loss: 0.3068 - accuracy: 0.8724 - val_loss: 0.3852 - val_accuracy: 0.8451\n",
            "Epoch 14/100\n",
            "536/536 [==============================] - 2s 3ms/step - loss: 0.3061 - accuracy: 0.8737 - val_loss: 0.3855 - val_accuracy: 0.8429\n",
            "Epoch 15/100\n",
            "536/536 [==============================] - 2s 3ms/step - loss: 0.3057 - accuracy: 0.8748 - val_loss: 0.3859 - val_accuracy: 0.8417\n",
            "Epoch 16/100\n",
            "536/536 [==============================] - 2s 3ms/step - loss: 0.3063 - accuracy: 0.8731 - val_loss: 0.3860 - val_accuracy: 0.8387\n",
            "Epoch 17/100\n",
            "536/536 [==============================] - 2s 3ms/step - loss: 0.3060 - accuracy: 0.8709 - val_loss: 0.3875 - val_accuracy: 0.8402\n",
            "Epoch 18/100\n",
            "536/536 [==============================] - 2s 4ms/step - loss: 0.3054 - accuracy: 0.8724 - val_loss: 0.3875 - val_accuracy: 0.8372\n",
            "Epoch 19/100\n",
            "536/536 [==============================] - 2s 3ms/step - loss: 0.3056 - accuracy: 0.8716 - val_loss: 0.3933 - val_accuracy: 0.8357\n",
            "Epoch 20/100\n",
            "536/536 [==============================] - 2s 3ms/step - loss: 0.3065 - accuracy: 0.8720 - val_loss: 0.3884 - val_accuracy: 0.8406\n",
            "Epoch 21/100\n",
            "536/536 [==============================] - 2s 3ms/step - loss: 0.3064 - accuracy: 0.8716 - val_loss: 0.3850 - val_accuracy: 0.8444\n",
            "Epoch 22/100\n",
            "536/536 [==============================] - 2s 3ms/step - loss: 0.3060 - accuracy: 0.8727 - val_loss: 0.3854 - val_accuracy: 0.8387\n",
            "Epoch 23/100\n",
            "536/536 [==============================] - 2s 4ms/step - loss: 0.3060 - accuracy: 0.8742 - val_loss: 0.3863 - val_accuracy: 0.8406\n",
            "Epoch 24/100\n",
            "536/536 [==============================] - 2s 3ms/step - loss: 0.3058 - accuracy: 0.8768 - val_loss: 0.3865 - val_accuracy: 0.8379\n",
            "Epoch 25/100\n",
            "536/536 [==============================] - 2s 3ms/step - loss: 0.3054 - accuracy: 0.8731 - val_loss: 0.3868 - val_accuracy: 0.8448\n",
            "Epoch 25: early stopping\n"
          ]
        }
      ]
    },
    {
      "cell_type": "code",
      "source": [
        "model.history.keys()"
      ],
      "metadata": {
        "colab": {
          "base_uri": "https://localhost:8080/"
        },
        "id": "0uBG9bNq6wiQ",
        "outputId": "290038ac-c1d0-4e80-b3d0-fe8216dc114f"
      },
      "execution_count": 32,
      "outputs": [
        {
          "output_type": "execute_result",
          "data": {
            "text/plain": [
              "dict_keys(['loss', 'accuracy', 'val_loss', 'val_accuracy'])"
            ]
          },
          "metadata": {},
          "execution_count": 32
        }
      ]
    },
    {
      "cell_type": "code",
      "source": [
        "plt.plot(model.history['accuracy'])\n",
        "plt.plot(model.history['val_accuracy'])\n",
        "plt.title('Model Accuracy')\n",
        "plt.ylabel('Accuracy')\n",
        "plt.xlabel('Epochs')\n",
        "plt.legend(['train','test'],loc='upper right')\n",
        "plt.show()"
      ],
      "metadata": {
        "colab": {
          "base_uri": "https://localhost:8080/",
          "height": 295
        },
        "id": "tYEfzlc67iBj",
        "outputId": "9acbfa7f-f285-4fed-ce5b-1a716c3e4c84"
      },
      "execution_count": 38,
      "outputs": [
        {
          "output_type": "display_data",
          "data": {
            "text/plain": [
              "<Figure size 432x288 with 1 Axes>"
            ],
            "image/png": "[encoded data removed]"
          },
          "metadata": {
            "needs_background": "light"
          }
        }
      ]
    },
    {
      "cell_type": "code",
      "source": [
        "y_pred = classifier.predict(x_test)\n",
        "y_pred= (y_pred>0.5)"
      ],
      "metadata": {
        "colab": {
          "base_uri": "https://localhost:8080/"
        },
        "id": "Q4IvgnmO8AJC",
        "outputId": "13e1324b-321a-4afb-f5aa-1cba0afc0cab"
      },
      "execution_count": 43,
      "outputs": [
        {
          "output_type": "stream",
          "name": "stdout",
          "text": [
            "63/63 [==============================] - 0s 3ms/step\n"
          ]
        }
      ]
    },
    {
      "cell_type": "code",
      "source": [
        "cm = confusion_matrix(y_test,y_pred)\n",
        "cm"
      ],
      "metadata": {
        "colab": {
          "base_uri": "https://localhost:8080/"
        },
        "id": "Xu0qjoxM9eMj",
        "outputId": "fcf49c9e-8c28-4060-e104-a0d26c5d2c1f"
      },
      "execution_count": 44,
      "outputs": [
        {
          "output_type": "execute_result",
          "data": {
            "text/plain": [
              "array([[1508,   87],\n",
              "       [ 192,  213]])"
            ]
          },
          "metadata": {},
          "execution_count": 44
        }
      ]
    },
    {
      "cell_type": "code",
      "source": [
        "accuracy_score(y_pred,y_test)"
      ],
      "metadata": {
        "colab": {
          "base_uri": "https://localhost:8080/"
        },
        "id": "IuByMBWa97bR",
        "outputId": "9fe175c1-f824-41df-b479-7d154beaebd4"
      },
      "execution_count": 46,
      "outputs": [
        {
          "output_type": "execute_result",
          "data": {
            "text/plain": [
              "0.8605"
            ]
          },
          "metadata": {},
          "execution_count": 46
        }
      ]
    },
    {
      "cell_type": "code",
      "source": [
        "classifier.get_weights()"
      ],
      "metadata": {
        "colab": {
          "base_uri": "https://localhost:8080/"
        },
        "id": "g2giPzi0-aT9",
        "outputId": "84e88ea4-8f82-4e67-eaaf-9cbb5287148f"
      },
      "execution_count": 48,
      "outputs": [
        {
          "output_type": "execute_result",
          "data": {
            "text/plain": [
              "[array([[-6.08666480e-01,  5.87176919e-01,  5.31427236e-03,\n",
              "          8.63510221e-02, -1.74391329e-01,  1.24660194e-01,\n",
              "          2.20925193e-02,  3.09739143e-01, -3.05742055e-01,\n",
              "         -2.76550531e-01,  8.25019367e-03],\n",
              "        [-8.75385851e-02, -1.22115326e+00,  6.70810759e-01,\n",
              "          7.74927020e-01,  8.21612775e-01, -9.83012617e-02,\n",
              "          5.50232112e-01, -4.41813946e-01,  6.61270857e-01,\n",
              "         -1.33795130e+00, -3.32679808e-01],\n",
              "        [ 8.10096204e-01,  3.36983204e-01,  1.18997477e-01,\n",
              "          4.31551412e-02,  2.19357386e-01,  4.69641149e-01,\n",
              "          2.04128444e-01,  3.80753338e-01, -2.15796083e-01,\n",
              "          4.27364618e-01,  2.12242991e-01],\n",
              "        [-5.70831418e-01, -3.12488109e-01,  8.32030177e-02,\n",
              "         -1.69236809e-01, -2.17780024e-01, -5.64774692e-01,\n",
              "         -1.21122688e-01, -6.87837601e-01, -4.40147072e-01,\n",
              "          5.51116109e-01, -1.69597194e-01],\n",
              "        [ 1.67957023e-01,  4.00287181e-01,  1.02292204e+00,\n",
              "         -1.02175057e+00, -1.71411425e-01, -4.83520515e-02,\n",
              "          9.46480930e-01, -3.90823811e-01, -3.63449603e-01,\n",
              "         -1.84481725e-01,  6.97348714e-01],\n",
              "        [ 3.87234874e-02, -1.80286065e-01, -4.87692878e-02,\n",
              "         -7.51281041e-04,  3.68004829e-01,  1.21016286e-01,\n",
              "         -4.34951345e-03, -8.93871412e-02,  5.29734045e-02,\n",
              "          6.69672906e-01, -2.73923695e-01],\n",
              "        [ 5.84292889e-01, -3.03177387e-01,  4.39702600e-01,\n",
              "         -2.81897068e-01,  1.10776019e+00,  3.29298317e-01,\n",
              "         -4.48095828e-01,  4.02025908e-01,  7.28214860e-01,\n",
              "         -5.05462587e-01,  1.39313459e-01],\n",
              "        [-1.41816791e-02, -2.05559477e-01, -8.28419719e-03,\n",
              "         -2.31890418e-02,  2.42483597e-02, -1.85426623e-01,\n",
              "         -1.52387703e-02,  1.33590579e-01,  1.49104953e-01,\n",
              "          2.80360524e-02, -2.68409401e-01],\n",
              "        [ 7.79907331e-02, -8.75026822e-01, -3.06933094e-02,\n",
              "         -7.50395134e-02, -4.63561803e-01, -5.66789031e-01,\n",
              "         -3.63580845e-02, -7.74052143e-01, -6.02168217e-02,\n",
              "         -2.44976297e-01,  4.69210833e-01],\n",
              "        [-8.04879546e-01,  3.06230634e-01, -1.01066850e-01,\n",
              "          1.48778353e-02,  9.12486315e-02,  4.48858067e-02,\n",
              "          3.27998102e-01,  4.11432117e-01, -9.76383314e-02,\n",
              "         -1.51850373e-01, -1.07148923e-01],\n",
              "        [-1.77475926e-03, -3.59971076e-01, -4.06207144e-01,\n",
              "         -3.78914416e-01,  5.79005480e-01, -3.41283679e-01,\n",
              "          4.78746891e-01,  8.42690825e-01, -4.92576212e-02,\n",
              "         -2.45685522e-02,  4.27238464e-01],\n",
              "        [-9.12010431e-01, -5.96436679e-01, -3.44674379e-01,\n",
              "          8.44335854e-02,  2.71491557e-01,  9.07639340e-02,\n",
              "          1.40493229e-01, -9.13294479e-02, -3.12947631e-02,\n",
              "          4.89735335e-01, -4.72348899e-01],\n",
              "        [ 5.10802865e-01,  5.60352467e-02,  2.98608929e-01,\n",
              "         -1.62653372e-01, -4.46725458e-01,  7.92563736e-01,\n",
              "          2.70942580e-02, -3.29590142e-01, -1.25046700e-01,\n",
              "         -7.61344954e-02, -7.86709636e-02]], dtype=float32),\n",
              " array([ 5.7449639e-02,  4.6219045e-01, -3.4798295e-04, -1.6108349e-01,\n",
              "        -6.5883803e-01,  3.3882564e-01, -3.7956232e-01,  5.0641847e-01,\n",
              "        -9.0471107e-01,  2.3249163e-01, -2.7058378e-01], dtype=float32),\n",
              " array([[ 0.5266692 , -1.1155617 ,  0.26056552,  0.16997702,  0.11521848,\n",
              "          0.4747622 ,  0.47078446],\n",
              "        [ 0.13473606,  0.9945966 ,  0.09832192, -0.02858614,  1.0290315 ,\n",
              "          0.5201328 , -0.0595912 ],\n",
              "        [-0.48747104, -0.05879729, -0.18033166,  1.692533  , -0.9119828 ,\n",
              "          0.51199996, -0.44796443],\n",
              "        [-0.5393768 , -0.42361644, -0.37488902, -0.43379158,  0.06488779,\n",
              "         -0.39002633,  0.40520927],\n",
              "        [-0.6972959 , -0.06760575,  0.5335341 ,  0.20477194,  0.2964818 ,\n",
              "         -0.29870853, -0.66745573],\n",
              "        [ 0.1144005 , -0.5110342 ,  0.27817544, -0.04436617, -0.3424015 ,\n",
              "         -0.80120975,  0.00784859],\n",
              "        [ 0.12796867, -0.36110586, -0.15234663,  0.3480211 ,  0.37364277,\n",
              "          1.0506319 , -0.6308159 ],\n",
              "        [ 0.55324936,  0.08115287, -0.25189877,  0.66886497, -0.2722517 ,\n",
              "         -0.65745884,  0.7492895 ],\n",
              "        [-0.57028484, -0.35703182,  0.7436924 , -0.28908995, -0.34063694,\n",
              "         -1.787741  ,  0.23700349],\n",
              "        [ 0.23411573, -0.27522922,  0.74318933, -0.04661135, -1.602204  ,\n",
              "          0.43264213,  0.07152975],\n",
              "        [ 0.07380567,  1.0396323 , -0.2517279 , -0.29899698, -0.38348532,\n",
              "         -0.37110102, -0.46161944]], dtype=float32),\n",
              " array([ 0.97091734,  0.5462121 ,  0.5245356 ,  0.09204803,  0.4772489 ,\n",
              "        -0.49709064, -0.06774306], dtype=float32),\n",
              " array([[ 0.4798634 ,  0.6960738 ,  0.01148234,  0.82599986, -0.13358806,\n",
              "          0.9796964 ],\n",
              "        [ 0.5436696 , -0.715383  , -4.335968  ,  0.5133837 , -0.74477917,\n",
              "          0.15860584],\n",
              "        [ 0.12481169, -0.1167862 ,  0.33403158,  0.5485995 , -0.6592681 ,\n",
              "          0.36385524],\n",
              "        [-0.00647318,  0.5282781 , -0.6426846 ,  0.24784653,  0.6534799 ,\n",
              "          0.19534525],\n",
              "        [-2.088718  ,  0.15534446,  0.9441278 , -0.61172366,  0.09118378,\n",
              "         -0.04260818],\n",
              "        [-0.15049618, -0.3816396 , -0.3978617 , -0.43454954,  1.3687501 ,\n",
              "         -0.14742215],\n",
              "        [ 0.3265196 , -0.32941148,  0.6129727 ,  0.11072664,  0.6462764 ,\n",
              "         -0.44297084]], dtype=float32),\n",
              " array([-0.41023567,  0.30002514,  0.17260657,  0.29485482,  0.23459712,\n",
              "         0.29453272], dtype=float32),\n",
              " array([[ 1.1647062],\n",
              "        [-0.9797143],\n",
              "        [ 1.4690797],\n",
              "        [-0.6309049],\n",
              "        [ 1.1154269],\n",
              "        [-0.4568339]], dtype=float32),\n",
              " array([-0.16978842], dtype=float32)]"
            ]
          },
          "metadata": {},
          "execution_count": 48
        }
      ]
    },
    {
      "cell_type": "code",
      "source": [],
      "metadata": {
        "id": "UYWaezrwAF9N"
      },
      "execution_count": null,
      "outputs": []
    }
  ]
}